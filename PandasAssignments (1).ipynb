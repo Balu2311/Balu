{
 "cells": [
  {
   "cell_type": "code",
   "execution_count": 18,
   "metadata": {},
   "outputs": [],
   "source": [
    "import pandas as pd\n",
    "import numpy as np"
   ]
  },
  {
   "cell_type": "code",
   "execution_count": 3,
   "metadata": {},
   "outputs": [
    {
     "name": "stdout",
     "output_type": "stream",
     "text": [
      "       country    Capital     Area  Population\n",
      "0        India  New Delhi  3287263      132.40\n",
      "1        China    Beijing  9596961      138.70\n",
      "2   Bangladesh      Dhaka   147570       15.87\n",
      "3     Pakistan  Islamabad   796095      202.78\n",
      "4  Afghanistan      Kabul   652230        3.75\n",
      "5        Japan      Tokyo   377930       12.69\n",
      "6      Bahrain     Manama      765        1.38\n"
     ]
    }
   ],
   "source": [
    "#Area in square kilometers and Population in Millions\n",
    "dict = {\"country\": [\"India\", \"China\", \"Bangladesh\", \"Pakistan\", \"Afghanistan\", \"Japan\", \"Bahrain\"],\n",
    "        \"Capital\": [\"New Delhi\", \"Beijing\", \"Dhaka\", \"Islamabad\", \"Kabul\", \"Tokyo\", \"Manama\"],\n",
    "        \"Area\": [3287263, 9596961, 147570, 796095, 652230, 377930, 765],\n",
    "        \"Population\":[132.4, 138.7, 15.87, 20.278, 3.75, 12.69, 1.38]\n",
    "       }\n",
    "\n",
    "asianDF = pd.DataFrame(dict)\n",
    "print(asianDF)"
   ]
  },
  {
   "cell_type": "code",
   "execution_count": 9,
   "metadata": {},
   "outputs": [],
   "source": [
    "x = pd.Series(dict)"
   ]
  },
  {
   "cell_type": "code",
   "execution_count": 12,
   "metadata": {},
   "outputs": [
    {
     "name": "stdout",
     "output_type": "stream",
     "text": [
      "[3287263, 9596961, 147570, 796095, 652230, 377930, 765]\n"
     ]
    }
   ],
   "source": [
    "print(x[2])"
   ]
  },
  {
   "cell_type": "code",
   "execution_count": 6,
   "metadata": {},
   "outputs": [
    {
     "data": {
      "text/plain": [
       "0    132.40\n",
       "1    138.70\n",
       "2     15.87\n",
       "3    202.78\n",
       "4      3.75\n",
       "5     12.69\n",
       "6      1.38\n",
       "dtype: float64"
      ]
     },
     "execution_count": 6,
     "metadata": {},
     "output_type": "execute_result"
    }
   ],
   "source": [
    "pd.Series([132.4, 138.7, 15.87, 202.78, 3.75, 12.69, 1.38])"
   ]
  },
  {
   "cell_type": "code",
   "execution_count": 7,
   "metadata": {},
   "outputs": [
    {
     "data": {
      "text/plain": [
       "0    New Delhi\n",
       "1      Beijing\n",
       "2        Dhaka\n",
       "3    Islamabad\n",
       "4        Kabul\n",
       "5        Tokyo\n",
       "6       Manama\n",
       "dtype: object"
      ]
     },
     "execution_count": 7,
     "metadata": {},
     "output_type": "execute_result"
    }
   ],
   "source": [
    "pd.Series([\"New Delhi\", \"Beijing\", \"Dhaka\", \"Islamabad\", \"Kabul\", \"Tokyo\", \"Manama\"])"
   ]
  },
  {
   "cell_type": "code",
   "execution_count": 55,
   "metadata": {},
   "outputs": [
    {
     "name": "stdout",
     "output_type": "stream",
     "text": [
      "a    132.40\n",
      "b    138.70\n",
      "c     15.87\n",
      "d    202.78\n",
      "e      3.75\n",
      "f     12.69\n",
      "g      1.38\n",
      "dtype: float64\n"
     ]
    }
   ],
   "source": [
    "y = pd.Series([132.4, 138.7, 15.87, 202.78, 3.75, 12.69, 1.38], index = ['a', 'b', 'c', 'd', 'e', 'f', 'g'])\n",
    "#y = pd.Series([132.4, 138.7, 15.87, 202.78, 3.75, 12.69, 1.38])\n",
    "print(y)"
   ]
  },
  {
   "cell_type": "code",
   "execution_count": 56,
   "metadata": {},
   "outputs": [
    {
     "name": "stdout",
     "output_type": "stream",
     "text": [
      "a   -1.224464\n",
      "b   -1.502294\n",
      "c    1.220627\n",
      "d    0.052213\n",
      "e    1.118397\n",
      "dtype: float64\n"
     ]
    }
   ],
   "source": [
    "s = pd.Series(np.random.randn(5), index=['a', 'b', 'c', 'd', 'e'])\n",
    "print(s)"
   ]
  },
  {
   "cell_type": "code",
   "execution_count": 23,
   "metadata": {},
   "outputs": [
    {
     "name": "stdout",
     "output_type": "stream",
     "text": [
      "0   -0.050469\n",
      "1    1.031429\n",
      "2   -0.820609\n",
      "3   -0.016735\n",
      "4    2.068176\n",
      "dtype: float64\n"
     ]
    }
   ],
   "source": [
    "s = pd.Series(np.random.randn(5))\n",
    "print(s)"
   ]
  },
  {
   "cell_type": "code",
   "execution_count": 26,
   "metadata": {},
   "outputs": [
    {
     "name": "stdout",
     "output_type": "stream",
     "text": [
      "b    1\n",
      "a    0\n",
      "c    2\n",
      "dtype: int64\n"
     ]
    }
   ],
   "source": [
    "d1 = {'b': 1, 'a': 0, 'c': 2}\n",
    "s1 = pd.Series(d1)\n",
    "print(s1)"
   ]
  },
  {
   "cell_type": "code",
   "execution_count": 30,
   "metadata": {},
   "outputs": [
    {
     "name": "stdout",
     "output_type": "stream",
     "text": [
      "p   NaN\n",
      "q   NaN\n",
      "r   NaN\n",
      "dtype: float64\n"
     ]
    }
   ],
   "source": [
    "d1 = {'b': 1, 'a': 0, 'c': 2}\n",
    "i1 = ['p', 'q', 'r']\n",
    "i2 = ['a', 'b', 'c']\n",
    "s2 = pd.Series(d1,index = i1)\n",
    "print(s2)"
   ]
  },
  {
   "cell_type": "code",
   "execution_count": 31,
   "metadata": {},
   "outputs": [
    {
     "name": "stdout",
     "output_type": "stream",
     "text": [
      "a    0\n",
      "b    1\n",
      "c    2\n",
      "dtype: int64\n"
     ]
    }
   ],
   "source": [
    "s2 = pd.Series(d1,index = i2)\n",
    "print(s2)"
   ]
  },
  {
   "cell_type": "code",
   "execution_count": 33,
   "metadata": {},
   "outputs": [
    {
     "name": "stdout",
     "output_type": "stream",
     "text": [
      "a    3.0\n",
      "b    3.0\n",
      "c    3.0\n",
      "d    3.0\n",
      "e    3.0\n",
      "dtype: float64\n"
     ]
    }
   ],
   "source": [
    "i3 = ['a', 'b', 'c', 'd', 'e']\n",
    "s3 = pd.Series(3., index = i3 )\n",
    "print(s3)"
   ]
  },
  {
   "cell_type": "code",
   "execution_count": 34,
   "metadata": {},
   "outputs": [
    {
     "name": "stdout",
     "output_type": "stream",
     "text": [
      "                  Country     Population Annual Growth\n",
      "0                   China  1,387,160,730     6,730,000\n",
      "1                   India  1,324,009,090    20,998,000\n",
      "2               Indonesia    255,462,000     3,549,000\n",
      "3                Pakistan    202,785,000     3,765,000\n",
      "4              Bangladesh    158,762,000     2,139,000\n",
      "5               Russia[5]    144,031,000       278,000\n",
      "6                   Japan    126,891,000       -12,000\n",
      "7             Philippines    100,699,395     1,500,000\n",
      "8                 Vietnam     91,812,000     1,057,000\n",
      "9                    Iran     82,000,000     1,001,000\n",
      "10                 Turkey     78,214,000     1,035,000\n",
      "11               Thailand     69,666,666       517,000\n",
      "12                Myanmar     56,480,000       632,000\n",
      "13            South Korea     50,617,000       193,000\n",
      "14            Afghanistan     37,521,000       751,000\n",
      "15                   Iraq     36,575,000     1,030,000\n",
      "16             Uzbekistan     31,283,000       523,000\n",
      "17               Malaysia     31,032,000       561,000\n",
      "18                  Nepal     28,038,000       392,000\n",
      "19           Saudi Arabia     26,849,000       494,000\n",
      "20                  Yemen     26,745,000       766,000\n",
      "21            North Korea     25,863,000       277,000\n",
      "22                 Taiwan     23,455,000        81,000\n",
      "23              Sri Lanka     22,480,000       194,000\n",
      "24             Kazakhstan     18,906,000       557,000\n",
      "25                  Syria     17,541,000       250,000\n",
      "26               Cambodia     15,040,000       236,000\n",
      "27             Azerbaijan      9,651,000       117,000\n",
      "28             Tajikistan      9,451,000       194,000\n",
      "29   United Arab Emirates      8,933,000       138,000\n",
      "30                 Israel      8,372,000       155,000\n",
      "31           Hong Kong[6]      7,299,000        65,000\n",
      "32                 Jordan      6,837,000       183,000\n",
      "33             Kyrgyzstan      6,543,000        96,000\n",
      "34                   Laos      6,202,000       109,000\n",
      "35              Singapore      5,541,000        71,000\n",
      "36           Turkmenistan      5,302,000        60,000\n",
      "37           Palestine[7]      4,683,000       133,000\n",
      "38                Lebanon      4,288,000        75,000\n",
      "39                   Oman      4,181,000       204,000\n",
      "40                 Kuwait      4,161,000       121,000\n",
      "41                Georgia      3,730,000         1,000\n",
      "42               Mongolia      3,029,000        65,000\n",
      "43                Armenia      3,005,000        -1,000\n",
      "44                  Qatar      2,113,000        87,000\n",
      "45            Timor-Leste      1,645,000        33,000\n",
      "46                Bahrain      1,381,000       122,000\n",
      "47                 Bhutan        760,000        13,000\n",
      "48              Macau [8]        641,000        24,000\n",
      "49                 Brunei        421,000         7,000\n",
      "50               Maldives        345,000         5,000\n"
     ]
    }
   ],
   "source": [
    "asiadataF = pd.read_csv('AsiaData.csv')\n",
    "print(asiadataF)"
   ]
  },
  {
   "cell_type": "code",
   "execution_count": 35,
   "metadata": {},
   "outputs": [
    {
     "name": "stdout",
     "output_type": "stream",
     "text": [
      "   one  two\n",
      "a  1.0  1.0\n",
      "b  2.0  2.0\n",
      "c  3.0  3.0\n",
      "d  NaN  4.0\n"
     ]
    }
   ],
   "source": [
    "d = {'one': pd.Series([1., 2., 3.], index=['a', 'b', 'c']),\n",
    "     'two': pd.Series([1., 2., 3., 4.], index=['a', 'b', 'c', 'd'])}\n",
    "df1 = pd.DataFrame(d)\n",
    "print(df1)"
   ]
  },
  {
   "cell_type": "code",
   "execution_count": 37,
   "metadata": {},
   "outputs": [
    {
     "name": "stdout",
     "output_type": "stream",
     "text": [
      "Index(['a', 'b', 'c', 'd'], dtype='object')\n"
     ]
    }
   ],
   "source": [
    "print(df1.index)"
   ]
  },
  {
   "cell_type": "code",
   "execution_count": 38,
   "metadata": {},
   "outputs": [
    {
     "name": "stdout",
     "output_type": "stream",
     "text": [
      "Index(['one', 'two'], dtype='object')\n"
     ]
    }
   ],
   "source": [
    "print(df1.columns)"
   ]
  },
  {
   "cell_type": "code",
   "execution_count": 39,
   "metadata": {},
   "outputs": [
    {
     "name": "stdout",
     "output_type": "stream",
     "text": [
      "   one  two\n",
      "0  1.0  4.0\n",
      "1  2.0  3.0\n",
      "2  3.0  2.0\n",
      "3  4.0  1.0\n"
     ]
    }
   ],
   "source": [
    "d = {'one': [1., 2., 3., 4.], \n",
    "     'two': [4., 3., 2., 1.]}\n",
    "df2 = pd.DataFrame(d)\n",
    "print(df2)"
   ]
  },
  {
   "cell_type": "code",
   "execution_count": 42,
   "metadata": {},
   "outputs": [
    {
     "name": "stdout",
     "output_type": "stream",
     "text": [
      "   a   b     c\n",
      "0  1   2   NaN\n",
      "1  5  10  20.0\n"
     ]
    }
   ],
   "source": [
    "data = [{'a': 1, 'b': 2}, {'a': 5, 'b': 10, 'c': 20}]\n",
    "df3 = pd.DataFrame(data)\n",
    "print(df3)"
   ]
  },
  {
   "cell_type": "code",
   "execution_count": 43,
   "metadata": {},
   "outputs": [
    {
     "data": {
      "text/plain": [
       "0                     China\n",
       "1                     India\n",
       "2                 Indonesia\n",
       "3                  Pakistan\n",
       "4                Bangladesh\n",
       "5                 Russia[5]\n",
       "6                     Japan\n",
       "7               Philippines\n",
       "8                   Vietnam\n",
       "9                      Iran\n",
       "10                   Turkey\n",
       "11                 Thailand\n",
       "12                  Myanmar\n",
       "13              South Korea\n",
       "14              Afghanistan\n",
       "15                     Iraq\n",
       "16               Uzbekistan\n",
       "17                 Malaysia\n",
       "18                    Nepal\n",
       "19             Saudi Arabia\n",
       "20                    Yemen\n",
       "21              North Korea\n",
       "22                   Taiwan\n",
       "23                Sri Lanka\n",
       "24               Kazakhstan\n",
       "25                    Syria\n",
       "26                 Cambodia\n",
       "27               Azerbaijan\n",
       "28               Tajikistan\n",
       "29     United Arab Emirates\n",
       "30                   Israel\n",
       "31             Hong Kong[6]\n",
       "32                   Jordan\n",
       "33               Kyrgyzstan\n",
       "34                     Laos\n",
       "35                Singapore\n",
       "36             Turkmenistan\n",
       "37             Palestine[7]\n",
       "38                  Lebanon\n",
       "39                     Oman\n",
       "40                   Kuwait\n",
       "41                  Georgia\n",
       "42                 Mongolia\n",
       "43                  Armenia\n",
       "44                    Qatar\n",
       "45              Timor-Leste\n",
       "46                  Bahrain\n",
       "47                   Bhutan\n",
       "48                Macau [8]\n",
       "49                   Brunei\n",
       "50                 Maldives\n",
       "Name: Country, dtype: object"
      ]
     },
     "execution_count": 43,
     "metadata": {},
     "output_type": "execute_result"
    }
   ],
   "source": [
    "asiadataF['Country']"
   ]
  },
  {
   "cell_type": "code",
   "execution_count": 44,
   "metadata": {},
   "outputs": [
    {
     "data": {
      "text/plain": [
       "0    1.0\n",
       "1    2.0\n",
       "2    3.0\n",
       "3    4.0\n",
       "Name: one, dtype: float64"
      ]
     },
     "execution_count": 44,
     "metadata": {},
     "output_type": "execute_result"
    }
   ],
   "source": [
    "df2['one']"
   ]
  },
  {
   "cell_type": "code",
   "execution_count": 45,
   "metadata": {},
   "outputs": [],
   "source": [
    "df2['three'] = df2['one'] * df2['two']"
   ]
  },
  {
   "cell_type": "code",
   "execution_count": 46,
   "metadata": {},
   "outputs": [
    {
     "name": "stdout",
     "output_type": "stream",
     "text": [
      "   one  two  three\n",
      "0  1.0  4.0    4.0\n",
      "1  2.0  3.0    6.0\n",
      "2  3.0  2.0    6.0\n",
      "3  4.0  1.0    4.0\n"
     ]
    }
   ],
   "source": [
    "print(df2)"
   ]
  },
  {
   "cell_type": "code",
   "execution_count": 48,
   "metadata": {},
   "outputs": [],
   "source": [
    "df2['flag'] = df2['three'] > 4"
   ]
  },
  {
   "cell_type": "code",
   "execution_count": 49,
   "metadata": {},
   "outputs": [
    {
     "name": "stdout",
     "output_type": "stream",
     "text": [
      "   one  two  three   flag\n",
      "0  1.0  4.0    4.0  False\n",
      "1  2.0  3.0    6.0   True\n",
      "2  3.0  2.0    6.0   True\n",
      "3  4.0  1.0    4.0  False\n"
     ]
    }
   ],
   "source": [
    "print(df2)"
   ]
  },
  {
   "cell_type": "code",
   "execution_count": 50,
   "metadata": {},
   "outputs": [
    {
     "name": "stdout",
     "output_type": "stream",
     "text": [
      "[RangeIndex(start=0, stop=4, step=1), Index(['one', 'two', 'three', 'flag'], dtype='object')]\n"
     ]
    }
   ],
   "source": [
    "print(df2.axes)"
   ]
  },
  {
   "cell_type": "code",
   "execution_count": 51,
   "metadata": {},
   "outputs": [
    {
     "name": "stdout",
     "output_type": "stream",
     "text": [
      "   one  two  three   flag\n",
      "0  1.0  4.0    4.0  False\n",
      "1  2.0  3.0    6.0   True\n",
      "2  3.0  2.0    6.0   True\n",
      "3  4.0  1.0    4.0  False\n"
     ]
    }
   ],
   "source": [
    "print(df2.head(5))"
   ]
  },
  {
   "cell_type": "code",
   "execution_count": 52,
   "metadata": {},
   "outputs": [
    {
     "name": "stdout",
     "output_type": "stream",
     "text": [
      "           0     1     2      3\n",
      "one        1     2     3      4\n",
      "two        4     3     2      1\n",
      "three      4     6     6      4\n",
      "flag   False  True  True  False\n"
     ]
    }
   ],
   "source": [
    "print(df2.T)"
   ]
  },
  {
   "cell_type": "code",
   "execution_count": 53,
   "metadata": {},
   "outputs": [
    {
     "name": "stdout",
     "output_type": "stream",
     "text": [
      "(4, 4)\n"
     ]
    }
   ],
   "source": [
    "print(df2.shape)"
   ]
  },
  {
   "cell_type": "code",
   "execution_count": 54,
   "metadata": {},
   "outputs": [
    {
     "name": "stdout",
     "output_type": "stream",
     "text": [
      "16\n"
     ]
    }
   ],
   "source": [
    "print(df2.size)"
   ]
  },
  {
   "cell_type": "code",
   "execution_count": 57,
   "metadata": {},
   "outputs": [
    {
     "name": "stdout",
     "output_type": "stream",
     "text": [
      "   one  two  three   flag\n",
      "0  1.0  4.0    4.0  False\n",
      "1  2.0  3.0    6.0   True\n",
      "2  3.0  2.0    6.0   True\n",
      "3  4.0  1.0    4.0  False\n",
      "   one  two  three\n",
      "0  1.0  4.0    4.0\n",
      "1  2.0  3.0    6.0\n",
      "2  3.0  2.0    6.0\n",
      "3  4.0  1.0    4.0\n"
     ]
    }
   ],
   "source": [
    "print(df2)\n",
    "del df2['flag']\n",
    "print(df2)"
   ]
  },
  {
   "cell_type": "code",
   "execution_count": 3,
   "metadata": {},
   "outputs": [
    {
     "data": {
      "text/plain": [
       "<matplotlib.axes._subplots.AxesSubplot at 0x2578e4942e8>"
      ]
     },
     "execution_count": 3,
     "metadata": {},
     "output_type": "execute_result"
    }
   ],
   "source": [
    "import pandas as pd\n",
    "import numpy as np\n",
    "\n",
    "df = pd.DataFrame(np.random.rand(10,4),columns=['a','b','c','d'])\n"
   ]
  },
  {
   "cell_type": "code",
   "execution_count": 4,
   "metadata": {},
   "outputs": [
    {
     "data": {
      "text/plain": [
       "<matplotlib.axes._subplots.AxesSubplot at 0x25790770240>"
      ]
     },
     "execution_count": 4,
     "metadata": {},
     "output_type": "execute_result"
    },
    {
     "data": {
      "image/png": "[encoded data removed]",
      "text/plain": [
       "<Figure size 432x288 with 1 Axes>"
      ]
     },
     "metadata": {
      "needs_background": "light"
     },
     "output_type": "display_data"
    }
   ],
   "source": [
    "df.plot.bar()"
   ]
  },
  {
   "cell_type": "code",
   "execution_count": 6,
   "metadata": {},
   "outputs": [
    {
     "data": {
      "text/plain": [
       "<matplotlib.axes._subplots.AxesSubplot at 0x25790853550>"
      ]
     },
     "execution_count": 6,
     "metadata": {},
     "output_type": "execute_result"
    },
    {
     "data": {
      "image/png": "[encoded data removed]",
      "text/plain": [
       "<Figure size 432x288 with 1 Axes>"
      ]
     },
     "metadata": {
      "needs_background": "light"
     },
     "output_type": "display_data"
    }
   ],
   "source": [
    "import pandas as pd\n",
    "df = pd.DataFrame(np.random.rand(10,4),columns=['a','b','c','d'])\n",
    "df.plot.bar(stacked=True)"
   ]
  },
  {
   "cell_type": "code",
   "execution_count": 7,
   "metadata": {},
   "outputs": [
    {
     "data": {
      "text/plain": [
       "<matplotlib.axes._subplots.AxesSubplot at 0x25790961438>"
      ]
     },
     "execution_count": 7,
     "metadata": {},
     "output_type": "execute_result"
    },
    {
     "data": {
      "image/png": "[encoded data removed]",
      "text/plain": [
       "<Figure size 432x288 with 1 Axes>"
      ]
     },
     "metadata": {
      "needs_background": "light"
     },
     "output_type": "display_data"
    }
   ],
   "source": [
    "import pandas as pd\n",
    "import numpy as np\n",
    "\n",
    "df = pd.DataFrame(np.random.rand(10,4),columns=['a','b','c','d'])\n",
    "\n",
    "df.plot.barh(stacked=True)"
   ]
  },
  {
   "cell_type": "code",
   "execution_count": 8,
   "metadata": {},
   "outputs": [
    {
     "data": {
      "text/plain": [
       "<matplotlib.axes._subplots.AxesSubplot at 0x25790a452b0>"
      ]
     },
     "execution_count": 8,
     "metadata": {},
     "output_type": "execute_result"
    },
    {
     "data": {
      "image/png": "[encoded data removed]",
      "text/plain": [
       "<Figure size 432x288 with 1 Axes>"
      ]
     },
     "metadata": {
      "needs_background": "light"
     },
     "output_type": "display_data"
    }
   ],
   "source": [
    "#Histograms can be plotted using the plot.hist() method. We can specify number of bins.\n",
    "import pandas as pd\n",
    "import numpy as np\n",
    "\n",
    "df = pd.DataFrame({'a':np.random.randn(1000)+1,'b':np.random.randn(1000),'c':\n",
    "np.random.randn(1000) - 1}, columns=['a', 'b', 'c'])\n",
    "\n",
    "df.plot.hist(bins=20)"
   ]
  },
  {
   "cell_type": "code",
   "execution_count": 16,
   "metadata": {},
   "outputs": [
    {
     "data": {
      "text/plain": [
       "array([[<matplotlib.axes._subplots.AxesSubplot object at 0x0000025790B7A208>,\n",
       "        <matplotlib.axes._subplots.AxesSubplot object at 0x0000025790DA3160>],\n",
       "       [<matplotlib.axes._subplots.AxesSubplot object at 0x0000025790DD0400>,\n",
       "        <matplotlib.axes._subplots.AxesSubplot object at 0x0000025790E026A0>]],\n",
       "      dtype=object)"
      ]
     },
     "execution_count": 16,
     "metadata": {},
     "output_type": "execute_result"
    },
    {
     "data": {
      "image/png": "[encoded data removed]",
      "text/plain": [
       "<Figure size 864x576 with 4 Axes>"
      ]
     },
     "metadata": {
      "needs_background": "light"
     },
     "output_type": "display_data"
    }
   ],
   "source": [
    "# import pandas as pd\n",
    "import numpy as np\n",
    "\n",
    "df=pd.DataFrame({'a':np.random.randn(1000)+1,'b':np.random.randn(1000),'c':np.random.randn(1000) - 1}, columns=['a', 'b', 'c'])\n",
    "df1 = df.diff()\n",
    "df1.hist(color='purple', alpha=0.5, figsize=(12,8),sharey=True,sharex=True,bins=20)"
   ]
  },
  {
   "cell_type": "code",
   "execution_count": 12,
   "metadata": {},
   "outputs": [
    {
     "name": "stdout",
     "output_type": "stream",
     "text": [
      "   a  b   c\n",
      "0  1  1   1\n",
      "1  2  1   4\n",
      "2  3  2   9\n",
      "3  4  3  16\n",
      "4  5  5  25\n",
      "5  6  8  36\n"
     ]
    }
   ],
   "source": [
    "df = pd.DataFrame({'a': [1, 2, 3, 4, 5, 6], 'b': [1, 1, 2, 3, 5, 8], 'c': [1, 4, 9, 16, 25, 36]})\n",
    "print(df)"
   ]
  },
  {
   "cell_type": "code",
   "execution_count": 13,
   "metadata": {},
   "outputs": [
    {
     "name": "stdout",
     "output_type": "stream",
     "text": [
      "     a    b     c\n",
      "0  NaN  NaN   NaN\n",
      "1  1.0  0.0   3.0\n",
      "2  1.0  1.0   5.0\n",
      "3  1.0  1.0   7.0\n",
      "4  1.0  2.0   9.0\n",
      "5  1.0  3.0  11.0\n"
     ]
    }
   ],
   "source": [
    "print(df.diff())"
   ]
  },
  {
   "cell_type": "code",
   "execution_count": 14,
   "metadata": {},
   "outputs": [],
   "source": [
    "df1 = df.diff()"
   ]
  },
  {
   "cell_type": "code",
   "execution_count": 15,
   "metadata": {},
   "outputs": [
    {
     "data": {
      "text/plain": [
       "array([[<matplotlib.axes._subplots.AxesSubplot object at 0x0000025790B7A240>,\n",
       "        <matplotlib.axes._subplots.AxesSubplot object at 0x0000025790C31588>],\n",
       "       [<matplotlib.axes._subplots.AxesSubplot object at 0x0000025790C5DB38>,\n",
       "        <matplotlib.axes._subplots.AxesSubplot object at 0x0000025790C98128>]],\n",
       "      dtype=object)"
      ]
     },
     "execution_count": 15,
     "metadata": {},
     "output_type": "execute_result"
    },
    {
     "data": {
      "image/png": "[encoded data removed]",
      "text/plain": [
       "<Figure size 432x288 with 4 Axes>"
      ]
     },
     "metadata": {
      "needs_background": "light"
     },
     "output_type": "display_data"
    }
   ],
   "source": [
    "df1.hist()"
   ]
  },
  {
   "cell_type": "code",
   "execution_count": 2,
   "metadata": {},
   "outputs": [
    {
     "data": {
      "text/plain": [
       "<matplotlib.axes._subplots.AxesSubplot at 0x217e3b72f28>"
      ]
     },
     "execution_count": 2,
     "metadata": {},
     "output_type": "execute_result"
    },
    {
     "data": {
      "image/png": "[encoded data removed]",
      "text/plain": [
       "<Figure size 432x288 with 1 Axes>"
      ]
     },
     "metadata": {
      "needs_background": "light"
     },
     "output_type": "display_data"
    }
   ],
   "source": [
    "import pandas as pd\n",
    "import numpy as np\n",
    "df = pd.DataFrame(np.random.rand(10, 5), columns=['A', 'B', 'C', 'D', 'E'])\n",
    "df.plot.box()"
   ]
  },
  {
   "cell_type": "code",
   "execution_count": null,
   "metadata": {},
   "outputs": [],
   "source": []
  }
 ],
 "metadata": {
  "kernelspec": {
   "display_name": "Python 3",
   "language": "python",
   "name": "python3"
  },
  "language_info": {
   "codemirror_mode": {
    "name": "ipython",
    "version": 3
   },
   "file_extension": ".py",
   "mimetype": "text/x-python",
   "name": "python",
   "nbconvert_exporter": "python",
   "pygments_lexer": "ipython3",
   "version": "3.7.3"
  }
 },
 "nbformat": 4,
 "nbformat_minor": 2
}
